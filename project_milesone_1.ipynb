{
  "nbformat": 4,
  "nbformat_minor": 0,
  "metadata": {
    "colab": {
      "provenance": []
    },
    "kernelspec": {
      "name": "python3",
      "display_name": "Python 3"
    },
    "language_info": {
      "name": "python"
    }
  },
  "cells": [
    {
      "cell_type": "markdown",
      "source": [
        "# Installing libraries"
      ],
      "metadata": {
        "id": "6Q8WsFGIZ2Pa"
      }
    },
    {
      "cell_type": "code",
      "execution_count": 1,
      "metadata": {
        "colab": {
          "base_uri": "https://localhost:8080/"
        },
        "id": "C27olT3gxvPm",
        "outputId": "55224621-2c0e-4959-c878-fb50dc50fa4c"
      },
      "outputs": [
        {
          "output_type": "stream",
          "name": "stdout",
          "text": [
            "\u001b[2K     \u001b[90m━━━━━━━━━━━━━━━━━━━━━━━━━━━━━━━━━━━━━━━━\u001b[0m \u001b[32m134.0/134.0 kB\u001b[0m \u001b[31m2.2 MB/s\u001b[0m eta \u001b[36m0:00:00\u001b[0m\n",
            "\u001b[2K     \u001b[90m━━━━━━━━━━━━━━━━━━━━━━━━━━━━━━━━━━━━━━━━\u001b[0m \u001b[32m331.5/331.5 kB\u001b[0m \u001b[31m6.4 MB/s\u001b[0m eta \u001b[36m0:00:00\u001b[0m\n",
            "\u001b[2K     \u001b[90m━━━━━━━━━━━━━━━━━━━━━━━━━━━━━━━━━━━━━━━━\u001b[0m \u001b[32m113.7/113.7 kB\u001b[0m \u001b[31m4.8 MB/s\u001b[0m eta \u001b[36m0:00:00\u001b[0m\n",
            "\u001b[2K     \u001b[90m━━━━━━━━━━━━━━━━━━━━━━━━━━━━━━━━━━━━━━━━\u001b[0m \u001b[32m526.7/526.7 kB\u001b[0m \u001b[31m8.4 MB/s\u001b[0m eta \u001b[36m0:00:00\u001b[0m\n",
            "\u001b[?25h  Preparing metadata (setup.py) ... \u001b[?25l\u001b[?25hdone\n",
            "  Building wheel for wget (setup.py) ... \u001b[?25l\u001b[?25hdone\n"
          ]
        }
      ],
      "source": [
        "!pip install -U pynwb --quiet\n",
        "!pip install wget --quiet"
      ]
    },
    {
      "cell_type": "markdown",
      "source": [
        "# Imports"
      ],
      "metadata": {
        "id": "k5ej7-jDZ61p"
      }
    },
    {
      "cell_type": "code",
      "source": [
        "import wget\n",
        "import zipfile\n",
        "import os"
      ],
      "metadata": {
        "id": "jdTM9U9ax1_e"
      },
      "execution_count": 9,
      "outputs": []
    },
    {
      "cell_type": "markdown",
      "source": [
        "# Download and unpack data"
      ],
      "metadata": {
        "id": "VJGqTwkrZ-Le"
      }
    },
    {
      "cell_type": "code",
      "source": [
        "wget.download(\"https://osf.io/download/g6q5m/\", \"SingleWordProductionDutch-iBIDS.zip\")"
      ],
      "metadata": {
        "colab": {
          "base_uri": "https://localhost:8080/",
          "height": 35
        },
        "id": "cefN6wAxXB2p",
        "outputId": "b1bb7c85-8a05-4602-cbbc-61f14e40e87b"
      },
      "execution_count": 3,
      "outputs": [
        {
          "output_type": "execute_result",
          "data": {
            "text/plain": [
              "'SingleWordProductionDutch-iBIDS.zip'"
            ],
            "application/vnd.google.colaboratory.intrinsic+json": {
              "type": "string"
            }
          },
          "metadata": {},
          "execution_count": 3
        }
      ]
    },
    {
      "cell_type": "code",
      "source": [
        "with zipfile.ZipFile('SingleWordProductionDutch-iBIDS.zip', 'r') as zip_ref:\n",
        "    zip_ref.extractall()\n",
        "os.remove('SingleWordProductionDutch-iBIDS.zip')"
      ],
      "metadata": {
        "id": "G_BNpTBzYKl7"
      },
      "execution_count": 4,
      "outputs": []
    },
    {
      "cell_type": "markdown",
      "source": [
        "# Processing data"
      ],
      "metadata": {
        "id": "w-WiwQZfaG4L"
      }
    },
    {
      "cell_type": "code",
      "source": [
        "!wget https://raw.githubusercontent.com/eva-vision/2BRAINS/main/MelFilterBank.py --quiet\n",
        "!wget https://raw.githubusercontent.com/eva-vision/2BRAINS/main/extract_features.py --quiet"
      ],
      "metadata": {
        "id": "1eKbmHA9woNs"
      },
      "execution_count": 15,
      "outputs": []
    },
    {
      "cell_type": "code",
      "source": [
        "!python MelFilterBank.py\n",
        "!python extract_features.py"
      ],
      "metadata": {
        "colab": {
          "base_uri": "https://localhost:8080/"
        },
        "id": "Q7rfUdhmlFky",
        "outputId": "549278aa-1881-4080-c4b7-8017eb434643"
      },
      "execution_count": 14,
      "outputs": [
        {
          "output_type": "stream",
          "name": "stdout",
          "text": [
            "Traceback (most recent call last):\n",
            "  File \"/content/extract_features.py\", line 195, in <module>\n",
            "    feat = extractHG(eeg,eeg_sr, windowLength=winL,frameshift=frameshift)\n",
            "  File \"/content/extract_features.py\", line 51, in extractHG\n",
            "    data = np.abs(hilbert3(data))\n",
            "  File \"/content/extract_features.py\", line 16, in <lambda>\n",
            "    hilbert3 = lambda x: scipy.signal.hilbert(x, scipy.fftpack.next_fast_len(len(x)),axis=0)[:len(x)]\n",
            "  File \"/usr/local/lib/python3.10/dist-packages/scipy/signal/_signaltools.py\", line 2403, in hilbert\n",
            "    x = sp_fft.ifft(Xf * h, axis=axis)\n",
            "  File \"/usr/local/lib/python3.10/dist-packages/scipy/fft/_backend.py\", line 25, in __ua_function__\n",
            "    return fn(*args, **kwargs)\n",
            "  File \"/usr/local/lib/python3.10/dist-packages/scipy/fft/_pocketfft/basic.py\", line 31, in c2c\n",
            "    return pfft.c2c(tmp, (axis,), forward, norm, out, workers)\n",
            "KeyboardInterrupt\n",
            "^C\n"
          ]
        }
      ]
    }
  ]
}